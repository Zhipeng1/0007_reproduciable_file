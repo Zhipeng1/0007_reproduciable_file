{
 "cells": [
  {
   "cell_type": "code",
   "execution_count": 1,
   "id": "b6337555",
   "metadata": {},
   "outputs": [],
   "source": [
    "# read in the module\n",
    "\n",
    "import pandas as pd\n",
    "from sklearn.linear_model import LinearRegression\n",
    "import statsmodels.api as sm\n",
    "\n",
    "import numpy as np\n",
    "import geopandas as gpd\n",
    "import sklearn\n",
    "from sklearn.linear_model import LogisticRegression\n",
    "from sklearn.metrics import confusion_matrix\n",
    "\n",
    "import matplotlib.pyplot as plt\n",
    "import seaborn as sn\n",
    "\n",
    "from scipy import stats\n",
    "from scipy.special import boxcox1p\n",
    "\n",
    "pd.set_option('display.max_rows', 300) # specifies number of rows to show\n",
    "pd.options.display.float_format = '{:40,.4f}'.format # specifies default number format to 4 decimal places\n",
    "plt.style.use('ggplot') # specifies that graphs should use ggplot styling\n",
    "%matplotlib inline\n",
    "\n",
    "# libraries for cluster\n",
    "import matplotlib.pyplot as plt # For plotting\n",
    "import numpy as np              # For working with numerical data\n",
    "import sklearn.cluster as sklc  # For clustering\n",
    "import sklearn.metrics as sklm  # For the silhouette score\n"
   ]
  },
  {
   "cell_type": "markdown",
   "id": "0e22e0e2",
   "metadata": {},
   "source": [
    "### Cluster analysis"
   ]
  },
  {
   "cell_type": "markdown",
   "id": "336793ff",
   "metadata": {},
   "source": [
    "#### Read in the ULEV data"
   ]
  },
  {
   "cell_type": "markdown",
   "id": "439c475a",
   "metadata": {},
   "source": [
    "read in the raw data"
   ]
  },
  {
   "cell_type": "code",
   "execution_count": 2,
   "id": "1ecd97fd",
   "metadata": {},
   "outputs": [],
   "source": [
    "ulev_licensed_local_authority_raw = pd.read_excel (r'data.xlsx', sheet_name='ULEV_licensed_veh0132a')"
   ]
  },
  {
   "cell_type": "code",
   "execution_count": 3,
   "id": "edeb5a83",
   "metadata": {
    "scrolled": true
   },
   "outputs": [
    {
     "data": {
      "text/html": [
       "<div>\n",
       "<style scoped>\n",
       "    .dataframe tbody tr th:only-of-type {\n",
       "        vertical-align: middle;\n",
       "    }\n",
       "\n",
       "    .dataframe tbody tr th {\n",
       "        vertical-align: top;\n",
       "    }\n",
       "\n",
       "    .dataframe thead th {\n",
       "        text-align: right;\n",
       "    }\n",
       "</style>\n",
       "<table border=\"1\" class=\"dataframe\">\n",
       "  <thead>\n",
       "    <tr style=\"text-align: right;\">\n",
       "      <th></th>\n",
       "      <th>ONS LA Code (Apr-2019)</th>\n",
       "      <th>Region/Local Authority</th>\n",
       "      <th>2021 Q2</th>\n",
       "      <th>2021 Q1</th>\n",
       "      <th>2020 Q4</th>\n",
       "      <th>2020 Q3</th>\n",
       "      <th>2020 Q2</th>\n",
       "      <th>2020 Q1</th>\n",
       "      <th>2019 Q4</th>\n",
       "      <th>2019 Q3</th>\n",
       "      <th>...</th>\n",
       "      <th>2014 Q1</th>\n",
       "      <th>2013 Q4</th>\n",
       "      <th>2013 Q3</th>\n",
       "      <th>2013 Q2</th>\n",
       "      <th>2013 Q1</th>\n",
       "      <th>2012 Q4</th>\n",
       "      <th>2012 Q3</th>\n",
       "      <th>2012 Q2</th>\n",
       "      <th>2012 Q1</th>\n",
       "      <th>2011 Q4</th>\n",
       "    </tr>\n",
       "  </thead>\n",
       "  <tbody>\n",
       "    <tr>\n",
       "      <th>0</th>\n",
       "      <td>K02000001</td>\n",
       "      <td>United Kingdom</td>\n",
       "      <td>564694</td>\n",
       "      <td>488079</td>\n",
       "      <td>431661</td>\n",
       "      <td>373225</td>\n",
       "      <td>317268</td>\n",
       "      <td>300016</td>\n",
       "      <td>269376</td>\n",
       "      <td>245138</td>\n",
       "      <td>...</td>\n",
       "      <td>16675</td>\n",
       "      <td>14967</td>\n",
       "      <td>14034</td>\n",
       "      <td>13420</td>\n",
       "      <td>12583</td>\n",
       "      <td>12064</td>\n",
       "      <td>11315</td>\n",
       "      <td>10856</td>\n",
       "      <td>10270</td>\n",
       "      <td>9954</td>\n",
       "    </tr>\n",
       "    <tr>\n",
       "      <th>1</th>\n",
       "      <td>K03000001</td>\n",
       "      <td>Great Britain</td>\n",
       "      <td>558022</td>\n",
       "      <td>482403</td>\n",
       "      <td>426777</td>\n",
       "      <td>368977</td>\n",
       "      <td>313554</td>\n",
       "      <td>296466</td>\n",
       "      <td>266194</td>\n",
       "      <td>242121</td>\n",
       "      <td>...</td>\n",
       "      <td>16390</td>\n",
       "      <td>14719</td>\n",
       "      <td>13814</td>\n",
       "      <td>13222</td>\n",
       "      <td>12418</td>\n",
       "      <td>11909</td>\n",
       "      <td>11177</td>\n",
       "      <td>10745</td>\n",
       "      <td>10178</td>\n",
       "      <td>9867</td>\n",
       "    </tr>\n",
       "    <tr>\n",
       "      <th>2</th>\n",
       "      <td>E92000001</td>\n",
       "      <td>England</td>\n",
       "      <td>505077</td>\n",
       "      <td>435982</td>\n",
       "      <td>385981</td>\n",
       "      <td>333964</td>\n",
       "      <td>283590</td>\n",
       "      <td>270241</td>\n",
       "      <td>240243</td>\n",
       "      <td>218330</td>\n",
       "      <td>...</td>\n",
       "      <td>14549</td>\n",
       "      <td>13099</td>\n",
       "      <td>12268</td>\n",
       "      <td>11653</td>\n",
       "      <td>11017</td>\n",
       "      <td>10523</td>\n",
       "      <td>10021</td>\n",
       "      <td>9554</td>\n",
       "      <td>9142</td>\n",
       "      <td>9011</td>\n",
       "    </tr>\n",
       "    <tr>\n",
       "      <th>3</th>\n",
       "      <td>E12000001</td>\n",
       "      <td>North East</td>\n",
       "      <td>8198</td>\n",
       "      <td>6941</td>\n",
       "      <td>6124</td>\n",
       "      <td>5555</td>\n",
       "      <td>4793</td>\n",
       "      <td>4694</td>\n",
       "      <td>4229</td>\n",
       "      <td>4032</td>\n",
       "      <td>...</td>\n",
       "      <td>524</td>\n",
       "      <td>454</td>\n",
       "      <td>468</td>\n",
       "      <td>445</td>\n",
       "      <td>427</td>\n",
       "      <td>407</td>\n",
       "      <td>390</td>\n",
       "      <td>387</td>\n",
       "      <td>344</td>\n",
       "      <td>349</td>\n",
       "    </tr>\n",
       "    <tr>\n",
       "      <th>4</th>\n",
       "      <td>E06000047</td>\n",
       "      <td>County Durham</td>\n",
       "      <td>1619</td>\n",
       "      <td>1344</td>\n",
       "      <td>1224</td>\n",
       "      <td>1113</td>\n",
       "      <td>962</td>\n",
       "      <td>937</td>\n",
       "      <td>813</td>\n",
       "      <td>770</td>\n",
       "      <td>...</td>\n",
       "      <td>87</td>\n",
       "      <td>79</td>\n",
       "      <td>72</td>\n",
       "      <td>57</td>\n",
       "      <td>48</td>\n",
       "      <td>45</td>\n",
       "      <td>43</td>\n",
       "      <td>43</td>\n",
       "      <td>41</td>\n",
       "      <td>66</td>\n",
       "    </tr>\n",
       "    <tr>\n",
       "      <th>...</th>\n",
       "      <td>...</td>\n",
       "      <td>...</td>\n",
       "      <td>...</td>\n",
       "      <td>...</td>\n",
       "      <td>...</td>\n",
       "      <td>...</td>\n",
       "      <td>...</td>\n",
       "      <td>...</td>\n",
       "      <td>...</td>\n",
       "      <td>...</td>\n",
       "      <td>...</td>\n",
       "      <td>...</td>\n",
       "      <td>...</td>\n",
       "      <td>...</td>\n",
       "      <td>...</td>\n",
       "      <td>...</td>\n",
       "      <td>...</td>\n",
       "      <td>...</td>\n",
       "      <td>...</td>\n",
       "      <td>...</td>\n",
       "      <td>...</td>\n",
       "    </tr>\n",
       "    <tr>\n",
       "      <th>462</th>\n",
       "      <td>N09000009</td>\n",
       "      <td>Mid Ulster</td>\n",
       "      <td>244</td>\n",
       "      <td>206</td>\n",
       "      <td>187</td>\n",
       "      <td>171</td>\n",
       "      <td>165</td>\n",
       "      <td>165</td>\n",
       "      <td>144</td>\n",
       "      <td>136</td>\n",
       "      <td>...</td>\n",
       "      <td>12</td>\n",
       "      <td>11</td>\n",
       "      <td>10</td>\n",
       "      <td>9</td>\n",
       "      <td>9</td>\n",
       "      <td>8</td>\n",
       "      <td>7</td>\n",
       "      <td>7</td>\n",
       "      <td>7</td>\n",
       "      <td>7</td>\n",
       "    </tr>\n",
       "    <tr>\n",
       "      <th>463</th>\n",
       "      <td>N09000010</td>\n",
       "      <td>Newry, Mourne and Down</td>\n",
       "      <td>319</td>\n",
       "      <td>272</td>\n",
       "      <td>239</td>\n",
       "      <td>206</td>\n",
       "      <td>180</td>\n",
       "      <td>175</td>\n",
       "      <td>155</td>\n",
       "      <td>155</td>\n",
       "      <td>...</td>\n",
       "      <td>24</td>\n",
       "      <td>19</td>\n",
       "      <td>17</td>\n",
       "      <td>13</td>\n",
       "      <td>7</td>\n",
       "      <td>7</td>\n",
       "      <td>7</td>\n",
       "      <td>6</td>\n",
       "      <td>6</td>\n",
       "      <td>5</td>\n",
       "    </tr>\n",
       "    <tr>\n",
       "      <th>464</th>\n",
       "      <td>NaN</td>\n",
       "      <td>Local Authority unknown</td>\n",
       "      <td>344</td>\n",
       "      <td>270</td>\n",
       "      <td>215</td>\n",
       "      <td>146</td>\n",
       "      <td>118</td>\n",
       "      <td>98</td>\n",
       "      <td>86</td>\n",
       "      <td>67</td>\n",
       "      <td>...</td>\n",
       "      <td>c</td>\n",
       "      <td>c</td>\n",
       "      <td>c</td>\n",
       "      <td>c</td>\n",
       "      <td>c</td>\n",
       "      <td>c</td>\n",
       "      <td>0</td>\n",
       "      <td>0</td>\n",
       "      <td>0</td>\n",
       "      <td>0</td>\n",
       "    </tr>\n",
       "    <tr>\n",
       "      <th>465</th>\n",
       "      <td>NaN</td>\n",
       "      <td>Vehicle under disposal</td>\n",
       "      <td>7785</td>\n",
       "      <td>6963</td>\n",
       "      <td>6464</td>\n",
       "      <td>5600</td>\n",
       "      <td>5087</td>\n",
       "      <td>2010</td>\n",
       "      <td>4566</td>\n",
       "      <td>4254</td>\n",
       "      <td>...</td>\n",
       "      <td>511</td>\n",
       "      <td>468</td>\n",
       "      <td>467</td>\n",
       "      <td>569</td>\n",
       "      <td>499</td>\n",
       "      <td>540</td>\n",
       "      <td>347</td>\n",
       "      <td>451</td>\n",
       "      <td>371</td>\n",
       "      <td>244</td>\n",
       "    </tr>\n",
       "    <tr>\n",
       "      <th>466</th>\n",
       "      <td>NaN</td>\n",
       "      <td>Region/County unknown</td>\n",
       "      <td>49</td>\n",
       "      <td>48</td>\n",
       "      <td>46</td>\n",
       "      <td>53</td>\n",
       "      <td>15</td>\n",
       "      <td>15</td>\n",
       "      <td>11</td>\n",
       "      <td>12</td>\n",
       "      <td>...</td>\n",
       "      <td>15</td>\n",
       "      <td>13</td>\n",
       "      <td>13</td>\n",
       "      <td>13</td>\n",
       "      <td>15</td>\n",
       "      <td>15</td>\n",
       "      <td>15</td>\n",
       "      <td>15</td>\n",
       "      <td>15</td>\n",
       "      <td>15</td>\n",
       "    </tr>\n",
       "  </tbody>\n",
       "</table>\n",
       "<p>467 rows × 41 columns</p>\n",
       "</div>"
      ],
      "text/plain": [
       "    ONS LA Code (Apr-2019)      Region/Local Authority 2021 Q2 2021 Q1  \\\n",
       "0                K02000001              United Kingdom  564694  488079   \n",
       "1                K03000001               Great Britain  558022  482403   \n",
       "2                E92000001                     England  505077  435982   \n",
       "3                E12000001                  North East    8198    6941   \n",
       "4                E06000047               County Durham    1619    1344   \n",
       "..                     ...                         ...     ...     ...   \n",
       "462              N09000009                  Mid Ulster     244     206   \n",
       "463              N09000010      Newry, Mourne and Down     319     272   \n",
       "464                    NaN     Local Authority unknown     344     270   \n",
       "465                    NaN      Vehicle under disposal    7785    6963   \n",
       "466                    NaN       Region/County unknown      49      48   \n",
       "\n",
       "    2020 Q4 2020 Q3 2020 Q2 2020 Q1 2019 Q4 2019 Q3  ... 2014 Q1 2013 Q4  \\\n",
       "0    431661  373225  317268  300016  269376  245138  ...   16675   14967   \n",
       "1    426777  368977  313554  296466  266194  242121  ...   16390   14719   \n",
       "2    385981  333964  283590  270241  240243  218330  ...   14549   13099   \n",
       "3      6124    5555    4793    4694    4229    4032  ...     524     454   \n",
       "4      1224    1113     962     937     813     770  ...      87      79   \n",
       "..      ...     ...     ...     ...     ...     ...  ...     ...     ...   \n",
       "462     187     171     165     165     144     136  ...      12      11   \n",
       "463     239     206     180     175     155     155  ...      24      19   \n",
       "464     215     146     118      98      86      67  ...       c       c   \n",
       "465    6464    5600    5087    2010    4566    4254  ...     511     468   \n",
       "466      46      53      15      15      11      12  ...      15      13   \n",
       "\n",
       "    2013 Q3 2013 Q2 2013 Q1 2012 Q4 2012 Q3 2012 Q2 2012 Q1 2011 Q4  \n",
       "0     14034   13420   12583   12064   11315   10856   10270    9954  \n",
       "1     13814   13222   12418   11909   11177   10745   10178    9867  \n",
       "2     12268   11653   11017   10523   10021    9554    9142    9011  \n",
       "3       468     445     427     407     390     387     344     349  \n",
       "4        72      57      48      45      43      43      41      66  \n",
       "..      ...     ...     ...     ...     ...     ...     ...     ...  \n",
       "462      10       9       9       8       7       7       7       7  \n",
       "463      17      13       7       7       7       6       6       5  \n",
       "464       c       c       c       c       0       0       0       0  \n",
       "465     467     569     499     540     347     451     371     244  \n",
       "466      13      13      15      15      15      15      15      15  \n",
       "\n",
       "[467 rows x 41 columns]"
      ]
     },
     "execution_count": 3,
     "metadata": {},
     "output_type": "execute_result"
    }
   ],
   "source": [
    "ulev_licensed_local_authority_raw "
   ]
  },
  {
   "cell_type": "markdown",
   "id": "e7edb0fa",
   "metadata": {},
   "source": [
    "change the column names"
   ]
  },
  {
   "cell_type": "code",
   "execution_count": 4,
   "id": "2194c4c4",
   "metadata": {},
   "outputs": [],
   "source": [
    "ulev_licensed_local_authority_raw.rename(columns={\"ONS LA Code (Apr-2019)\":\"LA_code\",\"Region/Local Authority\":\"Local_Authority\"},inplace=True)"
   ]
  },
  {
   "cell_type": "markdown",
   "id": "da638bc4",
   "metadata": {},
   "source": [
    "Select specific columns"
   ]
  },
  {
   "cell_type": "code",
   "execution_count": 5,
   "id": "707a4e64",
   "metadata": {},
   "outputs": [],
   "source": [
    "ulev_licensed_local_authority = ulev_licensed_local_authority_raw[['LA_code','Local_Authority','2019 Q4']]"
   ]
  },
  {
   "cell_type": "code",
   "execution_count": 6,
   "id": "b5293748",
   "metadata": {},
   "outputs": [
    {
     "data": {
      "text/plain": [
       "(467, 3)"
      ]
     },
     "execution_count": 6,
     "metadata": {},
     "output_type": "execute_result"
    }
   ],
   "source": [
    "ulev_licensed_local_authority.shape"
   ]
  },
  {
   "cell_type": "markdown",
   "id": "7a1fc854",
   "metadata": {},
   "source": [
    "here there are 467 rows"
   ]
  },
  {
   "cell_type": "code",
   "execution_count": 7,
   "id": "00e3f0e6",
   "metadata": {},
   "outputs": [
    {
     "data": {
      "text/plain": [
       "LA_code            36\n",
       "Local_Authority     0\n",
       "2019 Q4             0\n",
       "dtype: int64"
      ]
     },
     "execution_count": 7,
     "metadata": {},
     "output_type": "execute_result"
    }
   ],
   "source": [
    "ulev_licensed_local_authority.isna().sum()"
   ]
  },
  {
   "cell_type": "markdown",
   "id": "855c4383",
   "metadata": {},
   "source": [
    "drop the nas"
   ]
  },
  {
   "cell_type": "code",
   "execution_count": 8,
   "id": "dde00762",
   "metadata": {
    "scrolled": true
   },
   "outputs": [],
   "source": [
    "ulev_licensed_local_authority = ulev_licensed_local_authority.drop(ulev_licensed_local_authority[ulev_licensed_local_authority.LA_code.isna()].index.values, axis=0)"
   ]
  },
  {
   "cell_type": "code",
   "execution_count": 9,
   "id": "a9cfc9e5",
   "metadata": {},
   "outputs": [
    {
     "data": {
      "text/plain": [
       "(431, 3)"
      ]
     },
     "execution_count": 9,
     "metadata": {},
     "output_type": "execute_result"
    }
   ],
   "source": [
    "ulev_licensed_local_authority.shape"
   ]
  },
  {
   "cell_type": "markdown",
   "id": "3d492364",
   "metadata": {},
   "source": [
    "Read in the geographic data"
   ]
  },
  {
   "cell_type": "code",
   "execution_count": 10,
   "id": "a1608c3d",
   "metadata": {},
   "outputs": [
    {
     "ename": "DriverError",
     "evalue": "LAD_MAY_2021_UK_BFE_V2.shp: No such file or directory",
     "output_type": "error",
     "traceback": [
      "\u001b[1;31m---------------------------------------------------------------------------\u001b[0m",
      "\u001b[1;31mCPLE_OpenFailedError\u001b[0m                      Traceback (most recent call last)",
      "\u001b[1;32mfiona\\_shim.pyx\u001b[0m in \u001b[0;36mfiona._shim.gdal_open_vector\u001b[1;34m()\u001b[0m\n",
      "\u001b[1;32mfiona\\_err.pyx\u001b[0m in \u001b[0;36mfiona._err.exc_wrap_pointer\u001b[1;34m()\u001b[0m\n",
      "\u001b[1;31mCPLE_OpenFailedError\u001b[0m: LAD_MAY_2021_UK_BFE_V2.shp: No such file or directory",
      "\nDuring handling of the above exception, another exception occurred:\n",
      "\u001b[1;31mDriverError\u001b[0m                               Traceback (most recent call last)",
      "\u001b[1;32m<ipython-input-10-bcd8d6463936>\u001b[0m in \u001b[0;36m<module>\u001b[1;34m\u001b[0m\n\u001b[1;32m----> 1\u001b[1;33m \u001b[0mlocal_authority\u001b[0m \u001b[1;33m=\u001b[0m \u001b[0mgpd\u001b[0m\u001b[1;33m.\u001b[0m\u001b[0mread_file\u001b[0m\u001b[1;33m(\u001b[0m\u001b[1;34m'LAD_MAY_2021_UK_BFE_V2.shp'\u001b[0m\u001b[1;33m)\u001b[0m\u001b[1;33m\u001b[0m\u001b[1;33m\u001b[0m\u001b[0m\n\u001b[0m",
      "\u001b[1;32mF:\\anaconda3\\lib\\site-packages\\geopandas\\io\\file.py\u001b[0m in \u001b[0;36m_read_file\u001b[1;34m(filename, bbox, mask, rows, **kwargs)\u001b[0m\n\u001b[0;32m    199\u001b[0m \u001b[1;33m\u001b[0m\u001b[0m\n\u001b[0;32m    200\u001b[0m     \u001b[1;32mwith\u001b[0m \u001b[0mfiona_env\u001b[0m\u001b[1;33m(\u001b[0m\u001b[1;33m)\u001b[0m\u001b[1;33m:\u001b[0m\u001b[1;33m\u001b[0m\u001b[1;33m\u001b[0m\u001b[0m\n\u001b[1;32m--> 201\u001b[1;33m         \u001b[1;32mwith\u001b[0m \u001b[0mreader\u001b[0m\u001b[1;33m(\u001b[0m\u001b[0mpath_or_bytes\u001b[0m\u001b[1;33m,\u001b[0m \u001b[1;33m**\u001b[0m\u001b[0mkwargs\u001b[0m\u001b[1;33m)\u001b[0m \u001b[1;32mas\u001b[0m \u001b[0mfeatures\u001b[0m\u001b[1;33m:\u001b[0m\u001b[1;33m\u001b[0m\u001b[1;33m\u001b[0m\u001b[0m\n\u001b[0m\u001b[0;32m    202\u001b[0m \u001b[1;33m\u001b[0m\u001b[0m\n\u001b[0;32m    203\u001b[0m             \u001b[1;31m# In a future Fiona release the crs attribute of features will\u001b[0m\u001b[1;33m\u001b[0m\u001b[1;33m\u001b[0m\u001b[1;33m\u001b[0m\u001b[0m\n",
      "\u001b[1;32mF:\\anaconda3\\lib\\site-packages\\fiona\\env.py\u001b[0m in \u001b[0;36mwrapper\u001b[1;34m(*args, **kwargs)\u001b[0m\n\u001b[0;32m    406\u001b[0m     \u001b[1;32mdef\u001b[0m \u001b[0mwrapper\u001b[0m\u001b[1;33m(\u001b[0m\u001b[1;33m*\u001b[0m\u001b[0margs\u001b[0m\u001b[1;33m,\u001b[0m \u001b[1;33m**\u001b[0m\u001b[0mkwargs\u001b[0m\u001b[1;33m)\u001b[0m\u001b[1;33m:\u001b[0m\u001b[1;33m\u001b[0m\u001b[1;33m\u001b[0m\u001b[0m\n\u001b[0;32m    407\u001b[0m         \u001b[1;32mif\u001b[0m \u001b[0mlocal\u001b[0m\u001b[1;33m.\u001b[0m\u001b[0m_env\u001b[0m\u001b[1;33m:\u001b[0m\u001b[1;33m\u001b[0m\u001b[1;33m\u001b[0m\u001b[0m\n\u001b[1;32m--> 408\u001b[1;33m             \u001b[1;32mreturn\u001b[0m \u001b[0mf\u001b[0m\u001b[1;33m(\u001b[0m\u001b[1;33m*\u001b[0m\u001b[0margs\u001b[0m\u001b[1;33m,\u001b[0m \u001b[1;33m**\u001b[0m\u001b[0mkwargs\u001b[0m\u001b[1;33m)\u001b[0m\u001b[1;33m\u001b[0m\u001b[1;33m\u001b[0m\u001b[0m\n\u001b[0m\u001b[0;32m    409\u001b[0m         \u001b[1;32melse\u001b[0m\u001b[1;33m:\u001b[0m\u001b[1;33m\u001b[0m\u001b[1;33m\u001b[0m\u001b[0m\n\u001b[0;32m    410\u001b[0m             \u001b[1;32mif\u001b[0m \u001b[0misinstance\u001b[0m\u001b[1;33m(\u001b[0m\u001b[0margs\u001b[0m\u001b[1;33m[\u001b[0m\u001b[1;36m0\u001b[0m\u001b[1;33m]\u001b[0m\u001b[1;33m,\u001b[0m \u001b[0mstr\u001b[0m\u001b[1;33m)\u001b[0m\u001b[1;33m:\u001b[0m\u001b[1;33m\u001b[0m\u001b[1;33m\u001b[0m\u001b[0m\n",
      "\u001b[1;32mF:\\anaconda3\\lib\\site-packages\\fiona\\__init__.py\u001b[0m in \u001b[0;36mopen\u001b[1;34m(fp, mode, driver, schema, crs, encoding, layer, vfs, enabled_drivers, crs_wkt, **kwargs)\u001b[0m\n\u001b[0;32m    257\u001b[0m \u001b[1;33m\u001b[0m\u001b[0m\n\u001b[0;32m    258\u001b[0m         \u001b[1;32mif\u001b[0m \u001b[0mmode\u001b[0m \u001b[1;32min\u001b[0m \u001b[1;33m(\u001b[0m\u001b[1;34m'a'\u001b[0m\u001b[1;33m,\u001b[0m \u001b[1;34m'r'\u001b[0m\u001b[1;33m)\u001b[0m\u001b[1;33m:\u001b[0m\u001b[1;33m\u001b[0m\u001b[1;33m\u001b[0m\u001b[0m\n\u001b[1;32m--> 259\u001b[1;33m             c = Collection(path, mode, driver=driver, encoding=encoding,\n\u001b[0m\u001b[0;32m    260\u001b[0m                            layer=layer, enabled_drivers=enabled_drivers, **kwargs)\n\u001b[0;32m    261\u001b[0m         \u001b[1;32melif\u001b[0m \u001b[0mmode\u001b[0m \u001b[1;33m==\u001b[0m \u001b[1;34m'w'\u001b[0m\u001b[1;33m:\u001b[0m\u001b[1;33m\u001b[0m\u001b[1;33m\u001b[0m\u001b[0m\n",
      "\u001b[1;32mF:\\anaconda3\\lib\\site-packages\\fiona\\collection.py\u001b[0m in \u001b[0;36m__init__\u001b[1;34m(self, path, mode, driver, schema, crs, encoding, layer, vsi, archive, enabled_drivers, crs_wkt, ignore_fields, ignore_geometry, **kwargs)\u001b[0m\n\u001b[0;32m    160\u001b[0m             \u001b[1;32mif\u001b[0m \u001b[0mself\u001b[0m\u001b[1;33m.\u001b[0m\u001b[0mmode\u001b[0m \u001b[1;33m==\u001b[0m \u001b[1;34m'r'\u001b[0m\u001b[1;33m:\u001b[0m\u001b[1;33m\u001b[0m\u001b[1;33m\u001b[0m\u001b[0m\n\u001b[0;32m    161\u001b[0m                 \u001b[0mself\u001b[0m\u001b[1;33m.\u001b[0m\u001b[0msession\u001b[0m \u001b[1;33m=\u001b[0m \u001b[0mSession\u001b[0m\u001b[1;33m(\u001b[0m\u001b[1;33m)\u001b[0m\u001b[1;33m\u001b[0m\u001b[1;33m\u001b[0m\u001b[0m\n\u001b[1;32m--> 162\u001b[1;33m                 \u001b[0mself\u001b[0m\u001b[1;33m.\u001b[0m\u001b[0msession\u001b[0m\u001b[1;33m.\u001b[0m\u001b[0mstart\u001b[0m\u001b[1;33m(\u001b[0m\u001b[0mself\u001b[0m\u001b[1;33m,\u001b[0m \u001b[1;33m**\u001b[0m\u001b[0mkwargs\u001b[0m\u001b[1;33m)\u001b[0m\u001b[1;33m\u001b[0m\u001b[1;33m\u001b[0m\u001b[0m\n\u001b[0m\u001b[0;32m    163\u001b[0m             \u001b[1;32melif\u001b[0m \u001b[0mself\u001b[0m\u001b[1;33m.\u001b[0m\u001b[0mmode\u001b[0m \u001b[1;32min\u001b[0m \u001b[1;33m(\u001b[0m\u001b[1;34m'a'\u001b[0m\u001b[1;33m,\u001b[0m \u001b[1;34m'w'\u001b[0m\u001b[1;33m)\u001b[0m\u001b[1;33m:\u001b[0m\u001b[1;33m\u001b[0m\u001b[1;33m\u001b[0m\u001b[0m\n\u001b[0;32m    164\u001b[0m                 \u001b[0mself\u001b[0m\u001b[1;33m.\u001b[0m\u001b[0msession\u001b[0m \u001b[1;33m=\u001b[0m \u001b[0mWritingSession\u001b[0m\u001b[1;33m(\u001b[0m\u001b[1;33m)\u001b[0m\u001b[1;33m\u001b[0m\u001b[1;33m\u001b[0m\u001b[0m\n",
      "\u001b[1;32mfiona\\ogrext.pyx\u001b[0m in \u001b[0;36mfiona.ogrext.Session.start\u001b[1;34m()\u001b[0m\n",
      "\u001b[1;32mfiona\\_shim.pyx\u001b[0m in \u001b[0;36mfiona._shim.gdal_open_vector\u001b[1;34m()\u001b[0m\n",
      "\u001b[1;31mDriverError\u001b[0m: LAD_MAY_2021_UK_BFE_V2.shp: No such file or directory"
     ]
    }
   ],
   "source": [
    "local_authority = gpd.read_file('LAD_MAY_2021_UK_BFE_V2.shp')"
   ]
  },
  {
   "cell_type": "code",
   "execution_count": null,
   "id": "418486d0",
   "metadata": {},
   "outputs": [],
   "source": [
    "#region = gpd.read_file('Regions_(December_2017)_Boundaries.shp')"
   ]
  },
  {
   "cell_type": "code",
   "execution_count": null,
   "id": "fcc528cf",
   "metadata": {
    "scrolled": true
   },
   "outputs": [],
   "source": [
    "region1 = gpd.read_file('NUTS_Level_1_(January_2018)_Boundaries.shp')"
   ]
  },
  {
   "cell_type": "markdown",
   "id": "0c1a3ca0",
   "metadata": {},
   "source": [
    "Show the region level and local authority level data"
   ]
  },
  {
   "cell_type": "code",
   "execution_count": null,
   "id": "a7109d8c",
   "metadata": {},
   "outputs": [],
   "source": [
    "fig, ax = plt.subplots(1,1, figsize=(15,12))\n",
    "\n",
    "local_authority.plot(ax=ax,label='local_authority',legend=True)\n",
    "region1.plot(ax=ax, edgecolor='red', facecolor='none', linewidth=1,label='region',legend=True)\n",
    "ax.set_title('Countryside listings distribution', fontdict={'fontsize':'20', 'fontweight':'3'})  #provide a title\n",
    "\n",
    "ax.axis('off')\n",
    "plt.legend()\n",
    "ax.legend(fontsize = 13)\n",
    "plt.show()"
   ]
  },
  {
   "cell_type": "markdown",
   "id": "7644bf3c",
   "metadata": {},
   "source": [
    "#### Read in charging device data"
   ]
  },
  {
   "cell_type": "code",
   "execution_count": null,
   "id": "d7fe5259",
   "metadata": {},
   "outputs": [],
   "source": [
    "charging_device_local_authority = pd.read_excel (r'data.xlsx', sheet_name='charging_device_Oct19_EVCD_01a')"
   ]
  },
  {
   "cell_type": "code",
   "execution_count": null,
   "id": "7220d63b",
   "metadata": {},
   "outputs": [],
   "source": [
    "charging_device_local_authority"
   ]
  },
  {
   "cell_type": "code",
   "execution_count": null,
   "id": "8cf8de90",
   "metadata": {},
   "outputs": [],
   "source": [
    "charging_device_local_authority.rename(columns={\"LA / Region Code\":\"LA_code\",\"Local Authority / Region Name\":\"Local_Authority\"},inplace=True)"
   ]
  },
  {
   "cell_type": "code",
   "execution_count": null,
   "id": "17cdbea5",
   "metadata": {},
   "outputs": [],
   "source": [
    "charging_device_local_authority.shape"
   ]
  },
  {
   "cell_type": "code",
   "execution_count": null,
   "id": "d9596e46",
   "metadata": {},
   "outputs": [],
   "source": [
    "charging_device_local_authority.isna().sum()\n"
   ]
  },
  {
   "cell_type": "code",
   "execution_count": null,
   "id": "1108cba0",
   "metadata": {},
   "outputs": [],
   "source": [
    "ulev_licensed_local_authority.isna().sum()"
   ]
  },
  {
   "cell_type": "markdown",
   "id": "cf7286f9",
   "metadata": {},
   "source": [
    "#### Merge ULEV data and the charging device data"
   ]
  },
  {
   "cell_type": "code",
   "execution_count": null,
   "id": "090b8288",
   "metadata": {},
   "outputs": [],
   "source": [
    "ulev_cd_df = pd.merge(ulev_licensed_local_authority,charging_device_local_authority,on='LA_code',how='outer')"
   ]
  },
  {
   "cell_type": "code",
   "execution_count": null,
   "id": "3b3aac17",
   "metadata": {},
   "outputs": [],
   "source": [
    "ulev_cd_df.isna().sum()"
   ]
  },
  {
   "cell_type": "code",
   "execution_count": null,
   "id": "4127ada9",
   "metadata": {},
   "outputs": [],
   "source": [
    "ulev_cd_df.info()"
   ]
  },
  {
   "cell_type": "markdown",
   "id": "e85add7c",
   "metadata": {},
   "source": [
    "check all the rows containing na"
   ]
  },
  {
   "cell_type": "code",
   "execution_count": null,
   "id": "e2b8fb83",
   "metadata": {},
   "outputs": [],
   "source": [
    "na_rows = ulev_cd_df[ulev_cd_df['Total devices'].isna() | ulev_cd_df['2019 Q4'].isna()]"
   ]
  },
  {
   "cell_type": "code",
   "execution_count": null,
   "id": "f51f1afa",
   "metadata": {},
   "outputs": [],
   "source": [
    "na_rows "
   ]
  },
  {
   "cell_type": "markdown",
   "id": "efa7b7c3",
   "metadata": {},
   "source": [
    "drop the nas"
   ]
  },
  {
   "cell_type": "code",
   "execution_count": null,
   "id": "6eec1bef",
   "metadata": {},
   "outputs": [],
   "source": [
    "ulev_cd_df = ulev_cd_df.drop(na_rows.index.values,axis=0)"
   ]
  },
  {
   "cell_type": "code",
   "execution_count": null,
   "id": "3dc8bca4",
   "metadata": {},
   "outputs": [],
   "source": [
    "ulev_cd_df "
   ]
  },
  {
   "cell_type": "markdown",
   "id": "8265e0c9",
   "metadata": {},
   "source": [
    "#### cluster analysis (k means)"
   ]
  },
  {
   "cell_type": "markdown",
   "id": "70f0c47a",
   "metadata": {},
   "source": [
    "merge the ulev_cd_df with the local_authority data"
   ]
  },
  {
   "cell_type": "code",
   "execution_count": null,
   "id": "07463e9b",
   "metadata": {},
   "outputs": [],
   "source": [
    "ulev_cd_df_local_authority = pd.merge(ulev_cd_df,local_authority,how='outer',left_on='LA_code', right_on='LAD21CD')"
   ]
  },
  {
   "cell_type": "code",
   "execution_count": null,
   "id": "4fd500d2",
   "metadata": {},
   "outputs": [],
   "source": [
    "ulev_cd_df_local_authority.info()"
   ]
  },
  {
   "cell_type": "markdown",
   "id": "cb338da3",
   "metadata": {},
   "source": [
    "Check NAs"
   ]
  },
  {
   "cell_type": "code",
   "execution_count": null,
   "id": "052e5c2a",
   "metadata": {},
   "outputs": [],
   "source": [
    "ulev_cd_df_local_authority_nas = ulev_cd_df_local_authority[ulev_cd_df_local_authority['OBJECTID'].isna() | ulev_cd_df_local_authority['2019 Q4'].isna()]"
   ]
  },
  {
   "cell_type": "code",
   "execution_count": null,
   "id": "496ebe1e",
   "metadata": {},
   "outputs": [],
   "source": [
    "ulev_cd_df_local_authority_nas"
   ]
  },
  {
   "cell_type": "code",
   "execution_count": null,
   "id": "39922438",
   "metadata": {},
   "outputs": [],
   "source": [
    "ulev_cd_df_local_authority = ulev_cd_df_local_authority.drop(ulev_cd_df_local_authority_nas.index.values,axis=0)"
   ]
  },
  {
   "cell_type": "code",
   "execution_count": null,
   "id": "384196bf",
   "metadata": {},
   "outputs": [],
   "source": [
    "ulev_cd_df_local_authority.info()"
   ]
  },
  {
   "cell_type": "markdown",
   "id": "43560173",
   "metadata": {},
   "source": [
    "Change the data type"
   ]
  },
  {
   "cell_type": "code",
   "execution_count": null,
   "id": "0c43a34f",
   "metadata": {},
   "outputs": [],
   "source": [
    "ulev_cd_df_local_authority[\"Total devices\"] = ulev_cd_df_local_authority[\"Total devices\"].astype('int')\n",
    "ulev_cd_df_local_authority[\"per 100,000 population\"] = ulev_cd_df_local_authority[\"per 100,000 population\"].astype('float')\n",
    "ulev_cd_df_local_authority[\"2019 Q4\"] = ulev_cd_df_local_authority[\"2019 Q4\"].astype('int')"
   ]
  },
  {
   "cell_type": "code",
   "execution_count": null,
   "id": "bef33158",
   "metadata": {},
   "outputs": [],
   "source": [
    "ulev_cd_df_local_authority.info()"
   ]
  },
  {
   "cell_type": "code",
   "execution_count": null,
   "id": "b6019bea",
   "metadata": {
    "scrolled": true
   },
   "outputs": [],
   "source": [
    "ulev_cd_df_local_authority1 = ulev_cd_df_local_authority"
   ]
  },
  {
   "cell_type": "code",
   "execution_count": null,
   "id": "ffb80b23",
   "metadata": {},
   "outputs": [],
   "source": [
    "# convert df to gdf\n",
    "ulev_cd_local_authority1_gdf = gpd.GeoDataFrame(ulev_cd_df_local_authority1, geometry=ulev_cd_df_local_authority1.geometry,crs='epsg:27700')\n"
   ]
  },
  {
   "cell_type": "code",
   "execution_count": null,
   "id": "083de3c3",
   "metadata": {},
   "outputs": [],
   "source": [
    "ulev_cd_df_local_authority1.shape"
   ]
  },
  {
   "cell_type": "code",
   "execution_count": null,
   "id": "46001fd1",
   "metadata": {},
   "outputs": [],
   "source": [
    "ulev_cd_local_authority1_gdf.plot()"
   ]
  },
  {
   "cell_type": "markdown",
   "id": "c5fcff7c",
   "metadata": {},
   "source": [
    "Show the gdf data (there are some NAs so the map is not complete)"
   ]
  },
  {
   "cell_type": "code",
   "execution_count": null,
   "id": "ab1f2715",
   "metadata": {},
   "outputs": [],
   "source": [
    "fig, ax = plt.subplots(1,1, figsize=(12,9))\n",
    "\n",
    "ulev_cd_local_authority1_gdf.plot(ax=ax,column='per 100,000 population',cmap='coolwarm',legend=True)\n",
    "#region1.plot(ax=ax, edgecolor='red', facecolor='none', linewidth=1,label='region',legend=True)\n",
    "#ax.set_title('Countryside listings distribution', fontdict={'fontsize':'20', 'fontweight':'3'})  #provide a title\n",
    "\n",
    "#ax.axis('off')\n",
    "#local_authority.plot(ax=ax,label='local_authority',edgecolor='black',facecolor='none',legend=True)\n",
    "#region1.plot(ax=ax, edgecolor='red', facecolor='none', linewidth=0.5,label='region',legend=True)"
   ]
  },
  {
   "cell_type": "code",
   "execution_count": null,
   "id": "d4517077",
   "metadata": {},
   "outputs": [],
   "source": [
    "\n",
    "\n"
   ]
  },
  {
   "cell_type": "code",
   "execution_count": null,
   "id": "27efa8a5",
   "metadata": {},
   "outputs": [],
   "source": [
    "data_cluster = ulev_cd_local_authority1_gdf"
   ]
  },
  {
   "cell_type": "code",
   "execution_count": null,
   "id": "f5a8ccaf",
   "metadata": {},
   "outputs": [],
   "source": [
    "data_cluster['population_100000'] = data_cluster['Total devices']/data_cluster['per 100,000 population']"
   ]
  },
  {
   "cell_type": "code",
   "execution_count": null,
   "id": "513ae569",
   "metadata": {},
   "outputs": [],
   "source": [
    "data_cluster['ULEV_per_100000_population'] = data_cluster['2019 Q4']/data_cluster['population_100000']"
   ]
  },
  {
   "cell_type": "code",
   "execution_count": null,
   "id": "684f8d34",
   "metadata": {},
   "outputs": [],
   "source": [
    "data_cluster = data_cluster.rename(columns={'per 100,000 population':'charging_devices_per_100000_population'})"
   ]
  },
  {
   "cell_type": "code",
   "execution_count": null,
   "id": "99b14388",
   "metadata": {},
   "outputs": [],
   "source": [
    "data_cluster[data_cluster['charging_devices_per_100000_population']==0]"
   ]
  },
  {
   "cell_type": "markdown",
   "id": "5fc9c4ff",
   "metadata": {},
   "source": [
    "check the distribution of data(need to contain all 3 columns)"
   ]
  },
  {
   "cell_type": "code",
   "execution_count": null,
   "id": "d5d366ce",
   "metadata": {},
   "outputs": [],
   "source": [
    "fig1, axes1 = plt.subplots(1,2,figsize=(12,5))\n",
    "axes1[0].hist(data_cluster['ULEV_per_100000_population'],bins=50,color='xkcd:salmon',edgecolor=\"white\")\n",
    "axes1[0].set(xlabel='ULEV_per_100000_population')\n",
    "axes1[1].hist(data_cluster['charging_devices_per_100000_population'],bins=50,color='xkcd:salmon',edgecolor=\"white\")\n",
    "axes1[1].set(xlabel='charging_devices_per_100000_population')\n",
    "fig1.suptitle('Distribution',fontsize=16)\n",
    "fig1.tight_layout(pad=1)"
   ]
  },
  {
   "cell_type": "code",
   "execution_count": null,
   "id": "06a12b44",
   "metadata": {},
   "outputs": [],
   "source": [
    "cols_cluster = ['ULEV_per_100000_population','charging_devices_per_100000_population']"
   ]
  },
  {
   "cell_type": "markdown",
   "id": "73513131",
   "metadata": {},
   "source": [
    "Scale the two columns to normalise them"
   ]
  },
  {
   "cell_type": "code",
   "execution_count": null,
   "id": "bad60929",
   "metadata": {},
   "outputs": [],
   "source": [
    "from sklearn.preprocessing import MinMaxScaler\n",
    "\n",
    "scalers = [MinMaxScaler().fit(data_cluster[x].values.reshape(-1,1)) for x in cols_cluster]"
   ]
  },
  {
   "cell_type": "code",
   "execution_count": null,
   "id": "31bf390f",
   "metadata": {},
   "outputs": [],
   "source": [
    "scalers "
   ]
  },
  {
   "cell_type": "code",
   "execution_count": null,
   "id": "e76cdc36",
   "metadata": {},
   "outputs": [],
   "source": [
    "data_cluster_normalised = data_cluster[cols_cluster+['LA_code','Local_Authority_x','geometry']].copy()\n",
    "\n",
    "for i in range(0, len(cols_cluster)):\n",
    "    # Ditto this -- can you explain what this code is doing\n",
    "    data_cluster_normalised[cols_cluster[i]] = scalers[i].transform(data_cluster_normalised[cols_cluster[i]].values.reshape(-1,1))"
   ]
  },
  {
   "cell_type": "code",
   "execution_count": null,
   "id": "b8161963",
   "metadata": {},
   "outputs": [],
   "source": [
    "data_cluster_normalised[data_cluster_normalised['ULEV_per_100000_population'].isna()]"
   ]
  },
  {
   "cell_type": "code",
   "execution_count": null,
   "id": "09081108",
   "metadata": {},
   "outputs": [],
   "source": [
    " data_cluster_normalised = data_cluster_normalised.drop(26)"
   ]
  },
  {
   "cell_type": "code",
   "execution_count": null,
   "id": "83c1a823",
   "metadata": {},
   "outputs": [],
   "source": [
    "data_cluster_normalised = data_cluster_normalised.drop(330)"
   ]
  },
  {
   "cell_type": "markdown",
   "id": "c0bc4f3b",
   "metadata": {},
   "source": [
    "Here do the distribution plot for the data after normalisation"
   ]
  },
  {
   "cell_type": "code",
   "execution_count": null,
   "id": "643562bb",
   "metadata": {},
   "outputs": [],
   "source": [
    "plt.hist(data_cluster_normalised['ULEV_per_100000_population'],bins=50)"
   ]
  },
  {
   "cell_type": "code",
   "execution_count": null,
   "id": "73d3ed80",
   "metadata": {},
   "outputs": [],
   "source": [
    "plt.hist(data_cluster_normalised['charging_devices_per_100000_population'],bins=50)"
   ]
  },
  {
   "cell_type": "markdown",
   "id": "67bf05f1",
   "metadata": {},
   "source": [
    "Do the K means cluster"
   ]
  },
  {
   "cell_type": "code",
   "execution_count": null,
   "id": "17d0266d",
   "metadata": {},
   "outputs": [],
   "source": [
    "kmeans_data = data_cluster_normalised[['charging_devices_per_100000_population','ULEV_per_100000_population','LA_code']].set_index('LA_code')"
   ]
  },
  {
   "cell_type": "code",
   "execution_count": null,
   "id": "4e2870bd",
   "metadata": {},
   "outputs": [],
   "source": [
    "from sklearn.cluster import KMeans, DBSCAN, OPTICS"
   ]
  },
  {
   "cell_type": "code",
   "execution_count": null,
   "id": "5071a742",
   "metadata": {},
   "outputs": [],
   "source": [
    "c_nm   = 'KMeans' # Clustering name\n",
    "k_pref = 5 # Number of clusters\n",
    "\n",
    "kmeans = KMeans(n_clusters=k_pref, n_init=25, random_state=42).fit(kmeans_data) # The process\n",
    "\n",
    "print(kmeans.labels_) # The results"
   ]
  },
  {
   "cell_type": "code",
   "execution_count": null,
   "id": "d2acc05f",
   "metadata": {},
   "outputs": [],
   "source": [
    "len(kmeans.labels_)"
   ]
  },
  {
   "cell_type": "code",
   "execution_count": null,
   "id": "2445b358",
   "metadata": {},
   "outputs": [],
   "source": [
    "Kmeansdata_with_clusters = np.hstack((kmeans_data,np.array([kmeans.labels_]).T))"
   ]
  },
  {
   "cell_type": "code",
   "execution_count": null,
   "id": "7d5894f8",
   "metadata": {},
   "outputs": [],
   "source": [
    "Kmeansdata_with_clusters"
   ]
  },
  {
   "cell_type": "code",
   "execution_count": null,
   "id": "18fadd87",
   "metadata": {},
   "outputs": [],
   "source": [
    "data_by_cluster = []\n",
    "\n",
    "for i in range(k_pref):\n",
    "    \n",
    "    this_data = []\n",
    "    \n",
    "    for row in Kmeansdata_with_clusters:\n",
    "        \n",
    "        if row[-1] == i:\n",
    "            this_data.append(row)\n",
    "    \n",
    "    this_data = np.array(this_data)\n",
    "    \n",
    "    data_by_cluster.append(this_data)\n",
    "    \n",
    "#Which gives the following:\n",
    "data_by_cluster"
   ]
  },
  {
   "cell_type": "code",
   "execution_count": null,
   "id": "88a9e810",
   "metadata": {},
   "outputs": [],
   "source": [
    "# FIGURE PARAMETERS\n",
    "\n",
    "# Use the next line to set figure height and width (experiment to check the scale):\n",
    "figure_width, figure_height = 7,7\n",
    "\n",
    "# These lines set the figure title and axis labels and the font sizes:\n",
    "fig_title = 'Figure Title'\n",
    "x_label   = 'ULEV amounts per 100000 population'\n",
    "y_label   = 'Charging device amounts per 100000 population'\n",
    "title_fontsize = 18\n",
    "label_fontsize = 16\n",
    "\n",
    "#x_min, x_max = 0.5*np.min(data_use_array[:,0]), 1.1*np.max(data_use_array[:,0])\n",
    "#y_min, y_max = 0.5*np.min(data_use_array[:,1]), 1.1*np.max(data_use_array[:,1])\n",
    "# This is a function that sets up each figure's x-limits and y-limits and axis labels.\n",
    "\n",
    "def setup_figure():\n",
    "    \n",
    "   # plt.xlim([x_min, x_max])\n",
    "   # plt.ylim([y_min, y_max])\n",
    "    plt.xlabel(x_label,fontsize=label_fontsize)\n",
    "    plt.ylabel(y_label,fontsize=label_fontsize)\n"
   ]
  },
  {
   "cell_type": "code",
   "execution_count": null,
   "id": "1fb8ca85",
   "metadata": {},
   "outputs": [],
   "source": [
    "data_by_cluster"
   ]
  },
  {
   "cell_type": "code",
   "execution_count": null,
   "id": "86d28f1d",
   "metadata": {},
   "outputs": [],
   "source": [
    "# This is a list of colours to differentiate each cluster.\n",
    "color_list = ['b','r','g','m','c','k','y']\n",
    "#Might be nice to have those on the same plot though.\n",
    "# FIGURE N + 1 : COMBINED CLUSTER PLOT\n",
    "\n",
    "# These lines create a plot with all the data points, coloured by cluster.\n",
    "plt.figure(k_pref + 1,figsize=(figure_width,figure_height))\n",
    "setup_figure()\n",
    "plt.title(fig_title + ' - Coloured by Cluster',fontsize=title_fontsize)\n",
    "\n",
    "for i in range(k_pref):\n",
    "    \n",
    "    x_values = data_by_cluster[i][:,0]\n",
    "    y_values = data_by_cluster[i][:,1]\n",
    "    \n",
    "    plt.plot(x_values,y_values,color_list[i % 5] + '.')\n",
    "    "
   ]
  },
  {
   "cell_type": "markdown",
   "id": "275f459f",
   "metadata": {},
   "source": [
    "SILHOUETTE score plot"
   ]
  },
  {
   "cell_type": "code",
   "execution_count": null,
   "id": "6dc1f68e",
   "metadata": {},
   "outputs": [],
   "source": [
    "# calculate the SILHOUETTE SCORE of the cluster above (cluster number ==5)\n",
    "import sklearn.metrics as sklm  # For the silhouette score\n",
    "# These lines calculate the silhouette score...\n",
    "silhouette_kmeans = sklm.silhouette_score(kmeans_data,kmeans.labels_)\n",
    "\n",
    "# ... and print it:\n",
    "print(\"Silhouette Score:\", silhouette_kmeans)"
   ]
  },
  {
   "cell_type": "code",
   "execution_count": null,
   "id": "5f3b2dbd",
   "metadata": {},
   "outputs": [],
   "source": [
    "# cluster_numbers = range(1,10)\n",
    "# a = list(cluster_numbers)"
   ]
  },
  {
   "cell_type": "code",
   "execution_count": null,
   "id": "309412ed",
   "metadata": {},
   "outputs": [],
   "source": [
    "all_scores = {'n':[],'ss':[]}\n",
    "for n in range(2,10):\n",
    "    # This line performs the k-means clustering:\n",
    "    kmeans1 = sklc.KMeans(n_clusters=n, n_init=10,random_state=42)\n",
    "    \n",
    "    kmeans1_output = kmeans1.fit(kmeans_data)\n",
    "    \n",
    "    # This line creates a list giving the final cluster number of each point:\n",
    "    clustering_ids_kmeans = kmeans1_output.labels_\n",
    "    \n",
    "    ss = sklm.silhouette_score(kmeans_data,clustering_ids_kmeans)\n",
    "    \n",
    "    all_scores['n'].append(n)\n",
    "    all_scores['ss'].append(ss)\n",
    "    "
   ]
  },
  {
   "cell_type": "code",
   "execution_count": null,
   "id": "878ad0d0",
   "metadata": {},
   "outputs": [],
   "source": [
    "Kmeans_result_df = pd.DataFrame(all_scores)"
   ]
  },
  {
   "cell_type": "code",
   "execution_count": null,
   "id": "ba6b6eb5",
   "metadata": {},
   "outputs": [],
   "source": [
    "plt.plot(Kmeans_result_df.n,Kmeans_result_df.ss)\n",
    "\n",
    "plt.xlabel(\"Number of clusters\")\n",
    "plt.ylabel(\"Silhouette Score\")"
   ]
  },
  {
   "cell_type": "markdown",
   "id": "5082be91",
   "metadata": {},
   "source": [
    "From the plot above can see cluster number of 5 is the best\n"
   ]
  },
  {
   "cell_type": "code",
   "execution_count": null,
   "id": "99bb3242",
   "metadata": {},
   "outputs": [],
   "source": [
    "kmeans_data.info()"
   ]
  },
  {
   "cell_type": "code",
   "execution_count": null,
   "id": "07e13797",
   "metadata": {},
   "outputs": [],
   "source": []
  },
  {
   "cell_type": "code",
   "execution_count": null,
   "id": "f7debf2e",
   "metadata": {},
   "outputs": [],
   "source": [
    "cluster_df = pd.DataFrame(kmeans.labels_, index=kmeans_data.index)"
   ]
  },
  {
   "cell_type": "code",
   "execution_count": null,
   "id": "1956e4c7",
   "metadata": {},
   "outputs": [],
   "source": [
    "cluster_df"
   ]
  },
  {
   "cell_type": "code",
   "execution_count": null,
   "id": "efdc3d73",
   "metadata": {},
   "outputs": [],
   "source": [
    "# add back\n",
    "ulev_cd_local_authority1_gdf_cluster = pd.merge(ulev_cd_local_authority1_gdf,cluster_df,on='LA_code',how='outer')"
   ]
  },
  {
   "cell_type": "code",
   "execution_count": null,
   "id": "993e3cc6",
   "metadata": {},
   "outputs": [],
   "source": [
    "ulev_cd_local_authority1_gdf_cluster.info()"
   ]
  },
  {
   "cell_type": "markdown",
   "id": "776ebe47",
   "metadata": {},
   "source": [
    "check and drop NAs"
   ]
  },
  {
   "cell_type": "code",
   "execution_count": null,
   "id": "2270a789",
   "metadata": {},
   "outputs": [],
   "source": [
    "ulev_cd_local_authority1_gdf_cluster[ulev_cd_local_authority1_gdf_cluster[0].isna()]\n"
   ]
  },
  {
   "cell_type": "code",
   "execution_count": null,
   "id": "a22ecee8",
   "metadata": {},
   "outputs": [],
   "source": [
    "ulev_cd_local_authority1_gdf_cluster =ulev_cd_local_authority1_gdf_cluster.drop(index=19)"
   ]
  },
  {
   "cell_type": "code",
   "execution_count": null,
   "id": "85bd1f05",
   "metadata": {},
   "outputs": [],
   "source": [
    "ulev_cd_local_authority1_gdf_cluster =ulev_cd_local_authority1_gdf_cluster.drop(index=281)"
   ]
  },
  {
   "cell_type": "code",
   "execution_count": null,
   "id": "f352c874",
   "metadata": {},
   "outputs": [],
   "source": [
    "ulev_cd_local_authority1_gdf_cluster.shape"
   ]
  },
  {
   "cell_type": "code",
   "execution_count": null,
   "id": "53036834",
   "metadata": {},
   "outputs": [],
   "source": [
    "ulev_cd_local_authority1_gdf_cluster.head(1)"
   ]
  },
  {
   "cell_type": "markdown",
   "id": "58cd1f0f",
   "metadata": {},
   "source": [
    "Rename columns"
   ]
  },
  {
   "cell_type": "code",
   "execution_count": null,
   "id": "96d57559",
   "metadata": {},
   "outputs": [],
   "source": [
    "ulev_cd_local_authority1_gdf_cluster = ulev_cd_local_authority1_gdf_cluster.rename(columns={0:'cluster','per 100,000 population':'charging_devices_per_100000_population'})"
   ]
  },
  {
   "cell_type": "code",
   "execution_count": null,
   "id": "dbfeba84",
   "metadata": {},
   "outputs": [],
   "source": [
    "cluster_group = ulev_cd_local_authority1_gdf_cluster.groupby(['cluster'])['ULEV_per_100000_population','charging_devices_per_100000_population'].agg(['mean', 'count'])#agg(median_price='median').reset_index() # msoa listings grouped price\n",
    "cluster_group"
   ]
  },
  {
   "cell_type": "markdown",
   "id": "57ac5cb2",
   "metadata": {},
   "source": [
    "Map "
   ]
  },
  {
   "cell_type": "code",
   "execution_count": null,
   "id": "fe1a8ec3",
   "metadata": {},
   "outputs": [],
   "source": [
    "fig, ax = plt.subplots(1,1, figsize=(15,9))\n",
    "\n",
    "ulev_cd_local_authority1_gdf_cluster.plot(ax=ax,column='cluster',legend=True)\n",
    "#region1.plot(ax=ax, edgecolor='red', facecolor='none', linewidth=1,label='region',legend=True)\n",
    "#ax.set_title('Countryside listings distribution', fontdict={'fontsize':'20', 'fontweight':'3'})  #provide a title\n",
    "\n",
    "ax.axis('off')\n",
    "#local_authority.plot(ax=ax,label='local_authority',edgecolor='black',facecolor='none',legend=True)\n",
    "#region1.plot(ax=ax, edgecolor='red', facecolor='none', linewidth=1,label='region',legend=True)"
   ]
  },
  {
   "cell_type": "code",
   "execution_count": null,
   "id": "66d4b14b",
   "metadata": {},
   "outputs": [],
   "source": []
  },
  {
   "cell_type": "markdown",
   "id": "2bad4be3",
   "metadata": {},
   "source": [
    "### Linear regression\n"
   ]
  },
  {
   "cell_type": "markdown",
   "id": "623a876c",
   "metadata": {},
   "source": [
    "#### read in earning data"
   ]
  },
  {
   "cell_type": "code",
   "execution_count": null,
   "id": "86879ed9",
   "metadata": {},
   "outputs": [],
   "source": [
    "\n",
    "earning = pd.read_excel (r'data.xlsx', sheet_name='earning')"
   ]
  },
  {
   "cell_type": "code",
   "execution_count": null,
   "id": "f80838bb",
   "metadata": {},
   "outputs": [],
   "source": [
    "#earning = earning.rename(columns={'Unnamed: 0':'region'})"
   ]
  },
  {
   "cell_type": "code",
   "execution_count": null,
   "id": "d62f9006",
   "metadata": {},
   "outputs": [],
   "source": [
    "earning"
   ]
  },
  {
   "cell_type": "code",
   "execution_count": null,
   "id": "611e9626",
   "metadata": {},
   "outputs": [],
   "source": [
    "earning = earning.drop(index=[0,1,13])"
   ]
  },
  {
   "cell_type": "code",
   "execution_count": null,
   "id": "82791717",
   "metadata": {},
   "outputs": [],
   "source": [
    "earning = earning.rename(columns={'Region':'region'})"
   ]
  },
  {
   "cell_type": "code",
   "execution_count": null,
   "id": "098c1421",
   "metadata": {},
   "outputs": [],
   "source": [
    "earning.region[7]='East of England'"
   ]
  },
  {
   "cell_type": "code",
   "execution_count": null,
   "id": "a582e6b3",
   "metadata": {},
   "outputs": [],
   "source": [
    "earning = earning[['region',2019]]"
   ]
  },
  {
   "cell_type": "code",
   "execution_count": null,
   "id": "c5738f99",
   "metadata": {},
   "outputs": [],
   "source": [
    "earning = earning.rename(columns={2019:'earning_2019'})"
   ]
  },
  {
   "cell_type": "code",
   "execution_count": null,
   "id": "728f9be9",
   "metadata": {},
   "outputs": [],
   "source": [
    "earning"
   ]
  },
  {
   "cell_type": "markdown",
   "id": "aa711b6e",
   "metadata": {},
   "source": [
    "#### read in median house price data"
   ]
  },
  {
   "cell_type": "code",
   "execution_count": null,
   "id": "3454f19b",
   "metadata": {},
   "outputs": [],
   "source": [
    "cols_house_price = []\n",
    "for i in range(0,6):\n",
    "    cols_house_price.append(i)\n",
    "print(cols_house_price)"
   ]
  },
  {
   "cell_type": "code",
   "execution_count": null,
   "id": "0c8d7599",
   "metadata": {},
   "outputs": [],
   "source": [
    "\n",
    "median_house_price = pd.read_excel (r'data.xlsx', sheet_name='median_house_price',skiprows=4,usecols=cols_house_price)"
   ]
  },
  {
   "cell_type": "code",
   "execution_count": null,
   "id": "e0361643",
   "metadata": {},
   "outputs": [],
   "source": []
  },
  {
   "cell_type": "code",
   "execution_count": null,
   "id": "2faf63dc",
   "metadata": {},
   "outputs": [],
   "source": [
    "median_house_price['mean_median_house_price_2019'] = median_house_price.mean(axis=1)"
   ]
  },
  {
   "cell_type": "code",
   "execution_count": null,
   "id": "db404646",
   "metadata": {},
   "outputs": [],
   "source": [
    "median_house_price = median_house_price[['Code','Name','mean_median_house_price_2019']].drop(index=[0,1])"
   ]
  },
  {
   "cell_type": "code",
   "execution_count": null,
   "id": "8bbc2a35",
   "metadata": {},
   "outputs": [],
   "source": [
    "median_house_price = median_house_price.rename(columns={'Name':'region'})"
   ]
  },
  {
   "cell_type": "code",
   "execution_count": null,
   "id": "83d04566",
   "metadata": {},
   "outputs": [],
   "source": [
    "median_house_price.region.values"
   ]
  },
  {
   "cell_type": "markdown",
   "id": "db33b313",
   "metadata": {},
   "source": [
    "#### read in carbon_emission data"
   ]
  },
  {
   "cell_type": "code",
   "execution_count": null,
   "id": "8b25aadb",
   "metadata": {},
   "outputs": [],
   "source": [
    "cols_carbon_emission = [0,29]\n"
   ]
  },
  {
   "cell_type": "code",
   "execution_count": null,
   "id": "9a6467e8",
   "metadata": {},
   "outputs": [],
   "source": [
    "carbon_emission = pd.read_excel (r'data.xlsx', sheet_name='carbon_emission_direct_scope',skiprows=1,usecols=cols_carbon_emission)"
   ]
  },
  {
   "cell_type": "code",
   "execution_count": null,
   "id": "943215a0",
   "metadata": {},
   "outputs": [],
   "source": [
    "carbon_emission"
   ]
  },
  {
   "cell_type": "code",
   "execution_count": null,
   "id": "b310dc66",
   "metadata": {},
   "outputs": [],
   "source": [
    "carbon_emission = carbon_emission.rename(columns={'Region/Country':'region','Per Capita Emissions (t)':'emissions_per_person_t_2019'})"
   ]
  },
  {
   "cell_type": "code",
   "execution_count": null,
   "id": "61128bc2",
   "metadata": {},
   "outputs": [],
   "source": [
    "carbon_emission = carbon_emission.drop(index=11)"
   ]
  },
  {
   "cell_type": "code",
   "execution_count": null,
   "id": "4db79c67",
   "metadata": {},
   "outputs": [],
   "source": [
    "carbon_emission['region'] = carbon_emission['region'].str.replace(' Total','')"
   ]
  },
  {
   "cell_type": "code",
   "execution_count": null,
   "id": "91c6ef04",
   "metadata": {},
   "outputs": [],
   "source": [
    "carbon_emission.region[2] = 'Yorkshire and The Humber'"
   ]
  },
  {
   "cell_type": "code",
   "execution_count": null,
   "id": "9377523b",
   "metadata": {},
   "outputs": [],
   "source": [
    "carbon_emission"
   ]
  },
  {
   "cell_type": "markdown",
   "id": "055fe198",
   "metadata": {},
   "source": [
    "#### read in education level data"
   ]
  },
  {
   "cell_type": "code",
   "execution_count": null,
   "id": "059f219f",
   "metadata": {},
   "outputs": [],
   "source": [
    "education = pd.read_excel (r'data.xlsx', sheet_name='education_level_2019end') "
   ]
  },
  {
   "cell_type": "code",
   "execution_count": null,
   "id": "94647326",
   "metadata": {},
   "outputs": [],
   "source": [
    "education = education.drop(index=[0,2,13])"
   ]
  },
  {
   "cell_type": "code",
   "execution_count": null,
   "id": "cac5f5da",
   "metadata": {},
   "outputs": [],
   "source": [
    "education"
   ]
  },
  {
   "cell_type": "code",
   "execution_count": null,
   "id": "7b57bdc9",
   "metadata": {},
   "outputs": [],
   "source": [
    "education = education.drop(columns=['Unnamed: 1','Unnamed: 2'])"
   ]
  },
  {
   "cell_type": "code",
   "execution_count": null,
   "id": "8c350be1",
   "metadata": {},
   "outputs": [],
   "source": [
    "education['region'][5]='Yorkshire and The Humber'"
   ]
  },
  {
   "cell_type": "code",
   "execution_count": null,
   "id": "bccf4683",
   "metadata": {},
   "outputs": [],
   "source": [
    "education['region'][8]='East of England'"
   ]
  },
  {
   "cell_type": "code",
   "execution_count": null,
   "id": "a78fa810",
   "metadata": {},
   "outputs": [],
   "source": [
    "education.region.values"
   ]
  },
  {
   "cell_type": "markdown",
   "id": "c32a3ac8",
   "metadata": {},
   "source": [
    "#### read in rapid charging devices data"
   ]
  },
  {
   "cell_type": "code",
   "execution_count": null,
   "id": "a7961145",
   "metadata": {},
   "outputs": [],
   "source": [
    "rapid_charging = pd.read_excel (r'data.xlsx', sheet_name='rapid_charging_region') "
   ]
  },
  {
   "cell_type": "code",
   "execution_count": null,
   "id": "98a10253",
   "metadata": {},
   "outputs": [],
   "source": [
    "rapid_charging = rapid_charging.rename(columns={'per 100,000 population':'rapid_charging_100000_pop','Name':'region'})"
   ]
  },
  {
   "cell_type": "markdown",
   "id": "dcffdd4e",
   "metadata": {},
   "source": [
    "#### read in total charging devices data"
   ]
  },
  {
   "cell_type": "code",
   "execution_count": null,
   "id": "de11304d",
   "metadata": {},
   "outputs": [],
   "source": [
    "total_charging = pd.read_excel (r'data.xlsx', sheet_name='charging_device_region') "
   ]
  },
  {
   "cell_type": "code",
   "execution_count": null,
   "id": "82ad729b",
   "metadata": {},
   "outputs": [],
   "source": [
    "total_charging = total_charging[['region','charging_per_100000_pop']]"
   ]
  },
  {
   "cell_type": "code",
   "execution_count": null,
   "id": "9442f528",
   "metadata": {},
   "outputs": [],
   "source": [
    "total_charging"
   ]
  },
  {
   "cell_type": "markdown",
   "id": "3eb98de1",
   "metadata": {},
   "source": [
    "#### cars_registered"
   ]
  },
  {
   "cell_type": "code",
   "execution_count": null,
   "id": "0f4bacd2",
   "metadata": {},
   "outputs": [],
   "source": [
    "cars_registered_row = pd.read_excel (r'data.xlsx', sheet_name='Car_new_regis_veh0254',skiprows=3) "
   ]
  },
  {
   "cell_type": "code",
   "execution_count": null,
   "id": "860704d0",
   "metadata": {
    "scrolled": true
   },
   "outputs": [],
   "source": [
    "cars_registered_row"
   ]
  },
  {
   "cell_type": "code",
   "execution_count": null,
   "id": "a9b5243b",
   "metadata": {},
   "outputs": [],
   "source": [
    "cars_registered_row = cars_registered_row.iloc[0:21]"
   ]
  },
  {
   "cell_type": "code",
   "execution_count": null,
   "id": "3f69b964",
   "metadata": {},
   "outputs": [],
   "source": [
    "cars_registered_row"
   ]
  },
  {
   "cell_type": "code",
   "execution_count": null,
   "id": "72d90af1",
   "metadata": {},
   "outputs": [],
   "source": [
    "cars_registered_row = cars_registered_row.drop(index=0)"
   ]
  },
  {
   "cell_type": "code",
   "execution_count": null,
   "id": "adad46be",
   "metadata": {},
   "outputs": [],
   "source": [
    "cars_registered_row"
   ]
  },
  {
   "cell_type": "code",
   "execution_count": null,
   "id": "2eabc7df",
   "metadata": {},
   "outputs": [],
   "source": [
    "cars_registered = cars_registered_row.transpose()"
   ]
  },
  {
   "cell_type": "code",
   "execution_count": null,
   "id": "b6898af2",
   "metadata": {},
   "outputs": [],
   "source": [
    "cars_registered"
   ]
  },
  {
   "cell_type": "code",
   "execution_count": null,
   "id": "ac04c7c2",
   "metadata": {},
   "outputs": [],
   "source": [
    "cars_registered['region']=cars_registered.index"
   ]
  },
  {
   "cell_type": "code",
   "execution_count": null,
   "id": "c440f82f",
   "metadata": {},
   "outputs": [],
   "source": [
    "cars_registered.index = range(1, 18, 1)"
   ]
  },
  {
   "cell_type": "code",
   "execution_count": null,
   "id": "86eb4ac1",
   "metadata": {},
   "outputs": [],
   "source": [
    "cars_registered"
   ]
  },
  {
   "cell_type": "code",
   "execution_count": null,
   "id": "f810d7c4",
   "metadata": {},
   "outputs": [],
   "source": [
    "cars_registered = cars_registered[[19,'region']]\n"
   ]
  },
  {
   "cell_type": "code",
   "execution_count": null,
   "id": "723021bb",
   "metadata": {},
   "outputs": [],
   "source": [
    "cars_registered_region = cars_registered.drop(index=[1,13,14,15,16,17])"
   ]
  },
  {
   "cell_type": "code",
   "execution_count": null,
   "id": "386ac645",
   "metadata": {},
   "outputs": [],
   "source": [
    "cars_registered_region = cars_registered_region.rename(columns={19:\"cars_registered_thousands\"})"
   ]
  },
  {
   "cell_type": "code",
   "execution_count": null,
   "id": "521f571f",
   "metadata": {},
   "outputs": [],
   "source": [
    "cars_registered_region.region[7]='East of England'"
   ]
  },
  {
   "cell_type": "code",
   "execution_count": null,
   "id": "a018f581",
   "metadata": {},
   "outputs": [],
   "source": [
    "cars_registered_region"
   ]
  },
  {
   "cell_type": "markdown",
   "id": "de4d8a90",
   "metadata": {},
   "source": [
    "#### ULEV registered "
   ]
  },
  {
   "cell_type": "code",
   "execution_count": null,
   "id": "b9b0e07d",
   "metadata": {},
   "outputs": [],
   "source": [
    "ulev_registered_raw = pd.read_excel (r'data.xlsx', sheet_name='ULEV_new_regis_veh0172 ',skiprows=3) "
   ]
  },
  {
   "cell_type": "code",
   "execution_count": null,
   "id": "625786a6",
   "metadata": {},
   "outputs": [],
   "source": [
    "ulev_registered = ulev_registered_raw.iloc[47:51,0:12]"
   ]
  },
  {
   "cell_type": "code",
   "execution_count": null,
   "id": "385aef04",
   "metadata": {},
   "outputs": [],
   "source": [
    "ulev_registered"
   ]
  },
  {
   "cell_type": "code",
   "execution_count": null,
   "id": "934c7142",
   "metadata": {},
   "outputs": [],
   "source": [
    "ulev_registered.loc['Total']= ulev_registered.sum()"
   ]
  },
  {
   "cell_type": "code",
   "execution_count": null,
   "id": "d0f183cb",
   "metadata": {},
   "outputs": [],
   "source": [
    "ulev_registered_total = ulev_registered.loc[['Total']]"
   ]
  },
  {
   "cell_type": "code",
   "execution_count": null,
   "id": "451c452d",
   "metadata": {},
   "outputs": [],
   "source": [
    "ulev_registered_total"
   ]
  },
  {
   "cell_type": "code",
   "execution_count": null,
   "id": "400ae3aa",
   "metadata": {},
   "outputs": [],
   "source": [
    "ulev_registered_total = ulev_registered_total.transpose()"
   ]
  },
  {
   "cell_type": "code",
   "execution_count": null,
   "id": "2952e7e0",
   "metadata": {},
   "outputs": [],
   "source": [
    "ulev_registered_total"
   ]
  },
  {
   "cell_type": "code",
   "execution_count": null,
   "id": "c7e1e3e2",
   "metadata": {},
   "outputs": [],
   "source": [
    "ulev_registered_total = ulev_registered_total.drop(index='Year')"
   ]
  },
  {
   "cell_type": "code",
   "execution_count": null,
   "id": "1a18df11",
   "metadata": {},
   "outputs": [],
   "source": [
    "ulev_registered_total['region'] = ulev_registered_total.index"
   ]
  },
  {
   "cell_type": "code",
   "execution_count": null,
   "id": "6dfcef7d",
   "metadata": {},
   "outputs": [],
   "source": [
    "ulev_registered_region = ulev_registered_total.rename(columns={'Total':'ulevs_registered'})"
   ]
  },
  {
   "cell_type": "code",
   "execution_count": null,
   "id": "b1e78689",
   "metadata": {},
   "outputs": [],
   "source": [
    "ulev_registered_region.region['East']='East of England'"
   ]
  },
  {
   "cell_type": "code",
   "execution_count": null,
   "id": "0f607cc7",
   "metadata": {},
   "outputs": [],
   "source": [
    "ulev_registered_region"
   ]
  },
  {
   "cell_type": "markdown",
   "id": "3d9e774e",
   "metadata": {},
   "source": [
    "#### merge the car_registered and the ulev_registered to calculate the market share"
   ]
  },
  {
   "cell_type": "code",
   "execution_count": null,
   "id": "e00cb52b",
   "metadata": {},
   "outputs": [],
   "source": [
    "ulev_registered_region"
   ]
  },
  {
   "cell_type": "code",
   "execution_count": null,
   "id": "f90fabbf",
   "metadata": {},
   "outputs": [],
   "source": [
    "cars_registered_region"
   ]
  },
  {
   "cell_type": "code",
   "execution_count": null,
   "id": "868a2834",
   "metadata": {},
   "outputs": [],
   "source": [
    "ulev_car_registered = ulev_registered_region.merge(cars_registered_region, on='region')"
   ]
  },
  {
   "cell_type": "code",
   "execution_count": null,
   "id": "a68dc607",
   "metadata": {},
   "outputs": [],
   "source": [
    "ulev_car_registered"
   ]
  },
  {
   "cell_type": "code",
   "execution_count": null,
   "id": "70e8fc9a",
   "metadata": {},
   "outputs": [],
   "source": [
    "ulev_car_registered['ulev_market_share_%'] = ulev_car_registered['ulevs_registered']/ulev_car_registered['cars_registered_thousands']/1000*100"
   ]
  },
  {
   "cell_type": "code",
   "execution_count": null,
   "id": "313c2b64",
   "metadata": {},
   "outputs": [],
   "source": [
    "ulev_car_registered"
   ]
  },
  {
   "cell_type": "code",
   "execution_count": null,
   "id": "cb0fc407",
   "metadata": {},
   "outputs": [],
   "source": [
    "ulev_car_registered.region"
   ]
  },
  {
   "cell_type": "code",
   "execution_count": null,
   "id": "352f6857",
   "metadata": {},
   "outputs": [],
   "source": [
    "education.region"
   ]
  },
  {
   "cell_type": "markdown",
   "id": "3c98fe08",
   "metadata": {},
   "source": [
    "#### merge all the x data"
   ]
  },
  {
   "cell_type": "code",
   "execution_count": null,
   "id": "70e5b8bd",
   "metadata": {},
   "outputs": [],
   "source": [
    "ulev_car_registered_house = pd.merge(ulev_car_registered,median_house_price, on='region',how='outer')"
   ]
  },
  {
   "cell_type": "code",
   "execution_count": null,
   "id": "c0fcc3fb",
   "metadata": {},
   "outputs": [],
   "source": [
    "ulev_car_registered_house"
   ]
  },
  {
   "cell_type": "code",
   "execution_count": null,
   "id": "5358cfbb",
   "metadata": {},
   "outputs": [],
   "source": [
    "ulev_car_registered_house_earning = pd.merge(ulev_car_registered_house,earning,on='region',how='outer')"
   ]
  },
  {
   "cell_type": "code",
   "execution_count": null,
   "id": "6c822c1f",
   "metadata": {},
   "outputs": [],
   "source": [
    "ulev_car_registered_house_earning"
   ]
  },
  {
   "cell_type": "code",
   "execution_count": null,
   "id": "e5e7632a",
   "metadata": {},
   "outputs": [],
   "source": [
    "ulev_car_registered_house_earning_carbonemission = pd.merge(ulev_car_registered_house_earning,carbon_emission,on='region',how='outer')"
   ]
  },
  {
   "cell_type": "code",
   "execution_count": null,
   "id": "08081e84",
   "metadata": {},
   "outputs": [],
   "source": [
    "ulev_car_registered_house_earning_carbonemission"
   ]
  },
  {
   "cell_type": "code",
   "execution_count": null,
   "id": "6cfa69a0",
   "metadata": {},
   "outputs": [],
   "source": [
    "ulev_car_registered_house_earning_carbonemission_education = pd.merge(ulev_car_registered_house_earning_carbonemission,education,on='region',how='outer')"
   ]
  },
  {
   "cell_type": "code",
   "execution_count": null,
   "id": "b975ffab",
   "metadata": {},
   "outputs": [],
   "source": [
    "ulev_car_registered_house_earning_carbonemission_education"
   ]
  },
  {
   "cell_type": "code",
   "execution_count": null,
   "id": "6a687f08",
   "metadata": {},
   "outputs": [],
   "source": [
    "ulev_car_registered_house_earning_carbonemission_education_rapidchagring =  pd.merge(ulev_car_registered_house_earning_carbonemission_education,rapid_charging,on='region',how='outer')"
   ]
  },
  {
   "cell_type": "code",
   "execution_count": null,
   "id": "cd2c24d4",
   "metadata": {},
   "outputs": [],
   "source": [
    "ulev_car_registered_house_earning_carbonemission_education_rapidchagring"
   ]
  },
  {
   "cell_type": "code",
   "execution_count": null,
   "id": "a1f31a25",
   "metadata": {},
   "outputs": [],
   "source": [
    "ulev_car_registered_house_earning_carbonemission_education_rapidchagring_totalcharging = pd.merge(ulev_car_registered_house_earning_carbonemission_education_rapidchagring,total_charging,on='region',how='outer')"
   ]
  },
  {
   "cell_type": "code",
   "execution_count": null,
   "id": "42280cf9",
   "metadata": {},
   "outputs": [],
   "source": []
  },
  {
   "cell_type": "code",
   "execution_count": null,
   "id": "8a36c5ac",
   "metadata": {},
   "outputs": [],
   "source": [
    "ulev_car_registered_house_earning_carbonemission_education_rapidchagring_totalcharging.columns"
   ]
  },
  {
   "cell_type": "code",
   "execution_count": null,
   "id": "df48118f",
   "metadata": {},
   "outputs": [],
   "source": [
    "regression_data = ulev_car_registered_house_earning_carbonemission_education_rapidchagring_totalcharging[['region','Code_x','ulev_market_share_%','mean_median_house_price_2019','earning_2019','emissions_per_person_t_2019','Qualified to NQF level 3 or above ','charging_per_100000_pop','rapid_charging_100000_pop']]"
   ]
  },
  {
   "cell_type": "code",
   "execution_count": null,
   "id": "929ad9da",
   "metadata": {},
   "outputs": [],
   "source": [
    "regression_data = regression_data.rename(columns={'Qualified to NQF level 3 or above ':'Qualified to NQF level 3 or above'})"
   ]
  },
  {
   "cell_type": "code",
   "execution_count": null,
   "id": "f629a78f",
   "metadata": {},
   "outputs": [],
   "source": [
    "regression_data"
   ]
  },
  {
   "cell_type": "code",
   "execution_count": null,
   "id": "616c2fab",
   "metadata": {},
   "outputs": [],
   "source": [
    "regression_data[\"ulev_market_share_%\"] = regression_data[\"ulev_market_share_%\"].astype('float')\n",
    "regression_data[\"charging_per_100000_pop\"] = regression_data[\"charging_per_100000_pop\"].astype('float')\n",
    "regression_data[\"rapid_charging_100000_pop\"] = regression_data[\"rapid_charging_100000_pop\"].astype('float')"
   ]
  },
  {
   "cell_type": "code",
   "execution_count": null,
   "id": "90e9973c",
   "metadata": {},
   "outputs": [],
   "source": [
    "regression_data.info()"
   ]
  },
  {
   "cell_type": "code",
   "execution_count": null,
   "id": "f83a4d6f",
   "metadata": {},
   "outputs": [],
   "source": [
    "list1 = regression_data.columns.values[3:]"
   ]
  },
  {
   "cell_type": "markdown",
   "id": "46caa993",
   "metadata": {},
   "source": [
    "####  Linear regression"
   ]
  },
  {
   "cell_type": "code",
   "execution_count": null,
   "id": "b26cc6b7",
   "metadata": {},
   "outputs": [],
   "source": [
    "plt.hist(regression_data['ulev_market_share_%'],bins=15)"
   ]
  },
  {
   "cell_type": "code",
   "execution_count": null,
   "id": "b2caa7e4",
   "metadata": {},
   "outputs": [],
   "source": [
    "# first use the original independent variables\n",
    "\n",
    "Y = regression_data['ulev_market_share_%']\n",
    "X = regression_data.loc[:,list1]"
   ]
  },
  {
   "cell_type": "code",
   "execution_count": null,
   "id": "941f30b1",
   "metadata": {},
   "outputs": [],
   "source": [
    "plt.rcParams.update({'font.size': 14})\n",
    "\n",
    "fig2, axes2 = plt.subplots(2,3, figsize=(15,6))\n",
    "#axes[1][2].set_visible(False)\n",
    "#plt.style.use('_mpl-gallery')\n",
    "#axes[1][0].set_position([0.24,0.125,0.228,0.343])\n",
    "#axes[1][1].set_position([0.55,0.125,0.228,0.343])\n",
    "\n",
    "\n",
    "#fig2.tight_layout(pad=5)\n",
    "\n",
    "for i in range(2):\n",
    "    for j in range(3):\n",
    "        #if (i==1 and j==2):\n",
    "            #continue\n",
    "        axes2[i,j].hist(regression_data[list1[j+3*i]],bins=10,edgecolor=\"white\",color='xkcd:salmon')\n",
    "        #axes[i,j].set_title(list1[j+3*i])\n",
    "        axes2[i,j].set(xlabel= list1[j+3*i])\n",
    "        \n",
    "#fig2.suptitle('Distribution of independent variables',fontsize=20)"
   ]
  },
  {
   "cell_type": "code",
   "execution_count": null,
   "id": "00b42b7f",
   "metadata": {},
   "outputs": [],
   "source": [
    "plt.rcParams.update({'font.size': 13})\n",
    "\n",
    "fig3, axes3 = plt.subplots(2,3, figsize=(15,6))\n",
    "#axes[1][2].set_visible(False)\n",
    "\n",
    "#axes[1][0].set_position([0.24,0.125,0.228,0.343])\n",
    "#axes[1][1].set_position([0.55,0.125,0.228,0.343])\n",
    "\n",
    "\n",
    "fig3.tight_layout(pad=10)\n",
    "\n",
    "for i in range(2):\n",
    "    for j in range(3):\n",
    "        #if (i==1 and j==2):\n",
    "            #continue\n",
    "        axes3[i,j].scatter(regression_data[list1[j+3*i]], regression_data['ulev_market_share_%'],color='xkcd:salmon')\n",
    "        #axes[i,j].set_title(list1[j+3*i])\n",
    "        axes3[i,j].plot(np.unique(regression_data[list1[j+3*i]]), np.poly1d(np.polyfit(regression_data[list1[j+3*i]], regression_data['ulev_market_share_%'], 1))(np.unique(regression_data[list1[j+3*i]])),color='blue',linestyle='dashed')\n",
    "        axes3[i,j].set(xlabel= list1[j+3*i])\n",
    "        axes3[i,j].set(ylabel= 'ULEV market share')\n",
    "        \n",
    "#fig3.suptitle('scatter plot',fontsize=20)"
   ]
  },
  {
   "cell_type": "markdown",
   "id": "e353d490",
   "metadata": {},
   "source": [
    "VIF "
   ]
  },
  {
   "cell_type": "code",
   "execution_count": null,
   "id": "d3fb084b",
   "metadata": {},
   "outputs": [],
   "source": [
    "\n",
    "\n",
    "df = X\n",
    "plt.rcParams[\"axes.grid\"] = False\n",
    "f = plt.figure(figsize=(12, 8))\n",
    "plt.matshow(df.corr(), fignum=f.number)\n",
    "plt.xticks(range(df.shape[1]), df.columns, fontsize=14, rotation=90)\n",
    "plt.yticks(range(df.shape[1]), df.columns, fontsize=14)\n",
    "cb = plt.colorbar()\n",
    "cb.ax.tick_params(labelsize=14)\n",
    "plt.title('Correlation Matrix', fontsize=16)"
   ]
  },
  {
   "cell_type": "code",
   "execution_count": null,
   "id": "1315bfa2",
   "metadata": {},
   "outputs": [],
   "source": [
    "\n",
    "# This function is adjusted from: https://stackoverflow.com/a/51329496/4667568\n",
    "from statsmodels.stats.outliers_influence import variance_inflation_factor \n",
    "from statsmodels.tools.tools import add_constant\n",
    "\n",
    "def drop_column_using_vif_(df, thresh=5):\n",
    "    '''\n",
    "    Calculates VIF each feature in a pandas dataframe, and repeatedly drop the columns with the highest VIF\n",
    "    A constant must be added to variance_inflation_factor or the results will be incorrect\n",
    "\n",
    "    :param df: the pandas dataframe containing only the predictor features, not the response variable\n",
    "    :param thresh: (default 5) the threshould VIF value. If the VIF of a variable is greater than thresh, it should be removed from the dataframe\n",
    "    :return: dataframe with multicollinear features removed\n",
    "    '''\n",
    "    while True:\n",
    "        # adding a constatnt item to the data. add_constant is a function from statsmodels (see the import above)\n",
    "        df_with_const = add_constant(df)\n",
    "\n",
    "        vif_df = pd.Series([variance_inflation_factor(df_with_const.values, i) \n",
    "               for i in range(df_with_const.shape[1])], name= \"VIF\",\n",
    "              index=df_with_const.columns).to_frame()\n",
    "\n",
    "        # drop the const\n",
    "        vif_df = vif_df.drop('const')\n",
    "        \n",
    "        # if the largest VIF is above the thresh, remove a variable with the largest VIF\n",
    "        # If there are multiple variabels with VIF>thresh, only one of them is removed. This is because we want to keep as many variables as possible\n",
    "        if vif_df.VIF.max() > thresh:\n",
    "            # If there are multiple variables with the maximum VIF, choose the first one\n",
    "            index_to_drop = vif_df.index[vif_df.VIF == vif_df.VIF.max()].tolist()[0]\n",
    "            print('Dropping: {}'.format(index_to_drop))\n",
    "            df = df.drop(columns = index_to_drop)\n",
    "        else:\n",
    "            # No VIF is above threshold. Exit the loop\n",
    "            break\n",
    "\n",
    "    return df"
   ]
  },
  {
   "cell_type": "code",
   "execution_count": null,
   "id": "02a248c9",
   "metadata": {},
   "outputs": [],
   "source": [
    "X"
   ]
  },
  {
   "cell_type": "code",
   "execution_count": null,
   "id": "88750d85",
   "metadata": {},
   "outputs": [],
   "source": [
    "# do the VIF\n",
    "X_dropped = drop_column_using_vif_(X)"
   ]
  },
  {
   "cell_type": "code",
   "execution_count": null,
   "id": "aa296f56",
   "metadata": {},
   "outputs": [],
   "source": [
    "# now do the regression with VIF since the model_0's issue\n",
    "# first do a correlation matrix for X\n",
    "\n",
    "df = X_dropped\n",
    "plt.rcParams[\"axes.grid\"] = False\n",
    "f = plt.figure(figsize=(12, 8))\n",
    "plt.matshow(df.corr(), fignum=f.number)\n",
    "plt.xticks(range(df.shape[1]), df.columns, fontsize=14, rotation=90)\n",
    "plt.yticks(range(df.shape[1]), df.columns, fontsize=14)\n",
    "cb = plt.colorbar()\n",
    "cb.ax.tick_params(labelsize=14)\n",
    "plt.title('Correlation Matrix', fontsize=16)"
   ]
  },
  {
   "cell_type": "code",
   "execution_count": null,
   "id": "025c58f0",
   "metadata": {},
   "outputs": [],
   "source": [
    "X1 = X_dropped\n",
    "X1 = sm.add_constant(X1)\n",
    "\n",
    "model_1=sm.OLS(Y,X1).fit()\n",
    "model_1.summary()"
   ]
  },
  {
   "cell_type": "code",
   "execution_count": null,
   "id": "c7012359",
   "metadata": {},
   "outputs": [],
   "source": [
    "# for residual plot \n",
    "plt.figure(figsize=(6,2))\n",
    "plt.rcParams.update({'font.size': 8})\n",
    "plt.scatter(model_1.fittedvalues, model_1.resid)\n",
    "# adding title and labels\n",
    "plt.xlabel('Fitted value')\n",
    "plt.ylabel('Residual')\n",
    "plt.title('Model1_Residual vs. Fitted')\n",
    "plt.show()\n",
    "\n"
   ]
  },
  {
   "cell_type": "markdown",
   "id": "8188a416",
   "metadata": {},
   "source": [
    "remove two variables with large P-values and do regression Model_2"
   ]
  },
  {
   "cell_type": "code",
   "execution_count": null,
   "id": "d732f5df",
   "metadata": {},
   "outputs": [],
   "source": [
    "X2 = regression_data[['emissions_per_person_t_2019','charging_per_100000_pop']]\n",
    "X2 = sm.add_constant(X2)\n",
    "\n",
    "model_2=sm.OLS(Y,X2).fit()\n",
    "model_2.summary()"
   ]
  },
  {
   "cell_type": "code",
   "execution_count": null,
   "id": "7eb92c5d",
   "metadata": {},
   "outputs": [],
   "source": [
    "# for residual plot \n",
    "plt.figure(figsize=(6,2))\n",
    "plt.rcParams.update({'font.size': 8})\n",
    "plt.scatter(model_2.fittedvalues, model_2.resid)\n",
    "# adding title and labels\n",
    "plt.xlabel('Fitted value')\n",
    "plt.ylabel('Residual')\n",
    "plt.title('Model2_Residual vs. Fitted')\n",
    "plt.show()\n",
    "\n"
   ]
  },
  {
   "cell_type": "code",
   "execution_count": null,
   "id": "6c9c7c3f",
   "metadata": {},
   "outputs": [],
   "source": []
  },
  {
   "cell_type": "code",
   "execution_count": null,
   "id": "7d1e07ef",
   "metadata": {},
   "outputs": [],
   "source": []
  },
  {
   "cell_type": "code",
   "execution_count": null,
   "id": "7c583ef1",
   "metadata": {},
   "outputs": [],
   "source": []
  }
 ],
 "metadata": {
  "kernelspec": {
   "display_name": "Python 3",
   "language": "python",
   "name": "python3"
  },
  "language_info": {
   "codemirror_mode": {
    "name": "ipython",
    "version": 3
   },
   "file_extension": ".py",
   "mimetype": "text/x-python",
   "name": "python",
   "nbconvert_exporter": "python",
   "pygments_lexer": "ipython3",
   "version": "3.8.8"
  },
  "toc": {
   "base_numbering": 1,
   "nav_menu": {},
   "number_sections": true,
   "sideBar": true,
   "skip_h1_title": false,
   "title_cell": "Table of Contents",
   "title_sidebar": "Contents",
   "toc_cell": false,
   "toc_position": {
    "height": "calc(100% - 180px)",
    "left": "10px",
    "top": "150px",
    "width": "279.263px"
   },
   "toc_section_display": true,
   "toc_window_display": true
  }
 },
 "nbformat": 4,
 "nbformat_minor": 5
}
